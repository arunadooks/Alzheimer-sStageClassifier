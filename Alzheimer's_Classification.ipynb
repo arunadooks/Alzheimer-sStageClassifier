{
  "nbformat": 4,
  "nbformat_minor": 0,
  "metadata": {
    "colab": {
      "provenance": [],
      "gpuType": "T4"
    },
    "kernelspec": {
      "name": "python3",
      "display_name": "Python 3"
    },
    "language_info": {
      "name": "python"
    },
    "accelerator": "GPU"
  },
  "cells": [
    {
      "cell_type": "code",
      "execution_count": null,
      "metadata": {
        "colab": {
          "base_uri": "https://localhost:8080/"
        },
        "id": "uB8K4gpythOv",
        "outputId": "52ceaac9-5232-4ad8-e0fc-650e6729e554"
      },
      "outputs": [
        {
          "output_type": "stream",
          "name": "stdout",
          "text": [
            "Drive already mounted at /content/drive; to attempt to forcibly remount, call drive.mount(\"/content/drive\", force_remount=True).\n",
            "Data already extracted. Skipping unzip.\n"
          ]
        }
      ],
      "source": [
        "#------------IMPORTING lIBRARIES------------\n",
        "from google.colab import drive\n",
        "import zipfile\n",
        "import os\n",
        "\n",
        "#mounting google drive\n",
        "drive.mount('/content/drive')\n",
        "\n",
        "#defining path\n",
        "zip_path = \"/content/drive/My Drive/Colab Notebooks/data/alzheimers1.zip\"\n",
        "extract_path = \"/content/alzheimers1/alzheimers/Combined_Dataset/train/alzheimers/Combined_Dataset/train/alzheimers/Combined_Dataset/train/alzheimers/Combined_Dataset/train\"\n",
        "\n",
        "#extracting:\n",
        "if not os.path.exists(extract_path):\n",
        "  with zipfile.ZipFile(zip_path, 'r') as zip_ref:\n",
        "    zip_ref.extractall(extract_path)\n",
        "    print(\"Data extracted!\")\n",
        "else:\n",
        "  print(\"Data already extracted. Skipping unzip.\")\n",
        "\n"
      ]
    },
    {
      "cell_type": "code",
      "source": [
        "from tensorflow.keras.preprocessing.image import ImageDataGenerator\n",
        "from keras.models import Sequential\n",
        "from keras.layers import Conv2D, MaxPool2D, Flatten, Dense, Dropout\n",
        "from keras.callbacks import EarlyStopping, ModelCheckpoint\n",
        "from tensorflow.keras.optimizers import Adam\n",
        "from tensorflow.keras.preprocessing.image import load_img, img_to_array\n",
        "import matplotlib.pyplot as plt\n",
        "\n",
        "from tensorflow.keras.applications import MobileNetV2 #using a pre-traine dmodel without the top\n",
        "from tensorflow.keras.layers import Dense, Dropout, GlobalAveragePooling2D\n"
      ],
      "metadata": {
        "id": "a-LmDnGhvxLw"
      },
      "execution_count": null,
      "outputs": []
    },
    {
      "cell_type": "code",
      "source": [
        "#----------------DATA PRE PROCESSING---------------------\n",
        "# Data Preprocessing\n",
        "train_datagen = ImageDataGenerator(rescale=1./255,\n",
        "                                   rotation_range = 30,\n",
        "                                   zoom_range=0.2,\n",
        "                                   width_shift_range = 0.2,\n",
        "                                   height_shift_range= 0.2,\n",
        "                                   shear_range=0.2,\n",
        "                                   horizontal_flip= True,\n",
        "                                   validation_split=0.2)\n",
        "\n",
        "#load training and validation sets:\n",
        "training_set = train_datagen.flow_from_directory(\n",
        "    extract_path, #used to point to the unzipped fl=olders\n",
        "    target_size=(224, 224), #resizing images\n",
        "    batch_size=32,\n",
        "    class_mode='categorical', #there are 4 classes of classification:\n",
        "    subset='training',\n",
        ")\n",
        "\n",
        "validation_set = train_datagen.flow_from_directory(\n",
        "    extract_path,\n",
        "    target_size=(224, 224), #resizing images\n",
        "    batch_size=32,\n",
        "    class_mode='categorical', #there are 4 classes of classification:\n",
        "    subset='validation',\n",
        ")"
      ],
      "metadata": {
        "colab": {
          "base_uri": "https://localhost:8080/"
        },
        "id": "jiu5c4x1wnoX",
        "outputId": "3c3a1037-1c8f-4ecb-a9dc-963ced13a317"
      },
      "execution_count": null,
      "outputs": [
        {
          "output_type": "stream",
          "name": "stdout",
          "text": [
            "Found 8192 images belonging to 4 classes.\n",
            "Found 2048 images belonging to 4 classes.\n"
          ]
        }
      ]
    },
    {
      "cell_type": "code",
      "source": [
        "#Debugging to find the right path with the 4 classes:\n",
        "!ls /content/alzheimers1/alzheimers/Combined_Dataset/train/alzheimers/Combined_Dataset/train/alzheimers/Combined_Dataset/train/alzheimers/Combined_Dataset/train"
      ],
      "metadata": {
        "colab": {
          "base_uri": "https://localhost:8080/"
        },
        "id": "sDZ8EnJvHNia",
        "outputId": "5a70c386-9a91-4fd8-ec66-9106909b2853"
      },
      "execution_count": null,
      "outputs": [
        {
          "output_type": "stream",
          "name": "stdout",
          "text": [
            "'Mild Impairment'      'No Impairment'\n",
            "'Moderate Impairment'  'Very Mild Impairment'\n"
          ]
        }
      ]
    },
    {
      "cell_type": "code",
      "source": [
        "#------------------BUILDING THE CNN----------------------\n",
        "#loading MobildeNetV2 without top layer\n",
        "base_model = MobileNetV2(\n",
        "    input_shape= (224, 224, 3),\n",
        "    include_top = False,\n",
        "    weights = 'imagenet'\n",
        ")\n",
        "\n",
        "#add custon head\n",
        "base_model.trainable = False\n",
        "\n",
        "# Build CNN Model with custom head\n",
        "model = Sequential([base_model,\n",
        "                      GlobalAveragePooling2D(),\n",
        "                      Dropout(0.5),\n",
        "                      Dense(4, activation='softmax')\n",
        "                    ])\n",
        "\n",
        "'''\n",
        "# Add more convolutional layers with increasing filters\n",
        "model.add(Conv2D(32, (3, 3), input_shape=(128, 128, 3), activation='relu'))\n",
        "model.add(MaxPool2D(pool_size=(2, 2)))\n",
        "model.add(Dropout(0.25)) # Add dropout to reduce overfitting\n",
        "model.add(Conv2D(64, (3, 3), activation='relu'))\n",
        "model.add(MaxPool2D(pool_size=(2, 2)))\n",
        "model.add(Dropout(0.25))\n",
        "model.add(Conv2D(128, (3, 3), activation='relu'))\n",
        "model.add(MaxPool2D(pool_size=(2, 2)))\n",
        "\n",
        "\n",
        "#Flattening:\n",
        "model.add(Flatten())\n",
        "\n",
        "#Fully COnnected Layers\n",
        "model.add(Dense(units=128, activation='relu'))\n",
        "model.add(Dropout(0.5))\n",
        "\n",
        "model.add(Dense(units=4, activation='softmax')) #for multivariate classification to convert the outputs into probabilities\n",
        "'''\n",
        "\n",
        "#compiling the model with a lower learning rate for more precision:\n",
        "optimizer = Adam(learning_rate=0.0001)\n",
        "model.compile(optimizer=optimizer, loss='categorical_crossentropy', metrics= ['accuracy'])\n",
        "\n",
        "\n",
        "#Model Summary:\n",
        "model.summary()"
      ],
      "metadata": {
        "colab": {
          "base_uri": "https://localhost:8080/",
          "height": 341
        },
        "id": "3pMI8-9YJHwt",
        "outputId": "18f5d2a3-fd9e-4110-8648-ec7be4424654"
      },
      "execution_count": null,
      "outputs": [
        {
          "output_type": "stream",
          "name": "stdout",
          "text": [
            "Downloading data from https://storage.googleapis.com/tensorflow/keras-applications/mobilenet_v2/mobilenet_v2_weights_tf_dim_ordering_tf_kernels_1.0_224_no_top.h5\n",
            "\u001b[1m9406464/9406464\u001b[0m \u001b[32m━━━━━━━━━━━━━━━━━━━━\u001b[0m\u001b[37m\u001b[0m \u001b[1m2s\u001b[0m 0us/step\n"
          ]
        },
        {
          "output_type": "display_data",
          "data": {
            "text/plain": [
              "\u001b[1mModel: \"sequential\"\u001b[0m\n"
            ],
            "text/html": [
              "<pre style=\"white-space:pre;overflow-x:auto;line-height:normal;font-family:Menlo,'DejaVu Sans Mono',consolas,'Courier New',monospace\"><span style=\"font-weight: bold\">Model: \"sequential\"</span>\n",
              "</pre>\n"
            ]
          },
          "metadata": {}
        },
        {
          "output_type": "display_data",
          "data": {
            "text/plain": [
              "┏━━━━━━━━━━━━━━━━━━━━━━━━━━━━━━━━━┳━━━━━━━━━━━━━━━━━━━━━━━━┳━━━━━━━━━━━━━━━┓\n",
              "┃\u001b[1m \u001b[0m\u001b[1mLayer (type)                   \u001b[0m\u001b[1m \u001b[0m┃\u001b[1m \u001b[0m\u001b[1mOutput Shape          \u001b[0m\u001b[1m \u001b[0m┃\u001b[1m \u001b[0m\u001b[1m      Param #\u001b[0m\u001b[1m \u001b[0m┃\n",
              "┡━━━━━━━━━━━━━━━━━━━━━━━━━━━━━━━━━╇━━━━━━━━━━━━━━━━━━━━━━━━╇━━━━━━━━━━━━━━━┩\n",
              "│ mobilenetv2_1.00_224            │ (\u001b[38;5;45mNone\u001b[0m, \u001b[38;5;34m7\u001b[0m, \u001b[38;5;34m7\u001b[0m, \u001b[38;5;34m1280\u001b[0m)     │     \u001b[38;5;34m2,257,984\u001b[0m │\n",
              "│ (\u001b[38;5;33mFunctional\u001b[0m)                    │                        │               │\n",
              "├─────────────────────────────────┼────────────────────────┼───────────────┤\n",
              "│ global_average_pooling2d        │ (\u001b[38;5;45mNone\u001b[0m, \u001b[38;5;34m1280\u001b[0m)           │             \u001b[38;5;34m0\u001b[0m │\n",
              "│ (\u001b[38;5;33mGlobalAveragePooling2D\u001b[0m)        │                        │               │\n",
              "├─────────────────────────────────┼────────────────────────┼───────────────┤\n",
              "│ dropout (\u001b[38;5;33mDropout\u001b[0m)               │ (\u001b[38;5;45mNone\u001b[0m, \u001b[38;5;34m1280\u001b[0m)           │             \u001b[38;5;34m0\u001b[0m │\n",
              "├─────────────────────────────────┼────────────────────────┼───────────────┤\n",
              "│ dense (\u001b[38;5;33mDense\u001b[0m)                   │ (\u001b[38;5;45mNone\u001b[0m, \u001b[38;5;34m4\u001b[0m)              │         \u001b[38;5;34m5,124\u001b[0m │\n",
              "└─────────────────────────────────┴────────────────────────┴───────────────┘\n"
            ],
            "text/html": [
              "<pre style=\"white-space:pre;overflow-x:auto;line-height:normal;font-family:Menlo,'DejaVu Sans Mono',consolas,'Courier New',monospace\">┏━━━━━━━━━━━━━━━━━━━━━━━━━━━━━━━━━┳━━━━━━━━━━━━━━━━━━━━━━━━┳━━━━━━━━━━━━━━━┓\n",
              "┃<span style=\"font-weight: bold\"> Layer (type)                    </span>┃<span style=\"font-weight: bold\"> Output Shape           </span>┃<span style=\"font-weight: bold\">       Param # </span>┃\n",
              "┡━━━━━━━━━━━━━━━━━━━━━━━━━━━━━━━━━╇━━━━━━━━━━━━━━━━━━━━━━━━╇━━━━━━━━━━━━━━━┩\n",
              "│ mobilenetv2_1.00_224            │ (<span style=\"color: #00d7ff; text-decoration-color: #00d7ff\">None</span>, <span style=\"color: #00af00; text-decoration-color: #00af00\">7</span>, <span style=\"color: #00af00; text-decoration-color: #00af00\">7</span>, <span style=\"color: #00af00; text-decoration-color: #00af00\">1280</span>)     │     <span style=\"color: #00af00; text-decoration-color: #00af00\">2,257,984</span> │\n",
              "│ (<span style=\"color: #0087ff; text-decoration-color: #0087ff\">Functional</span>)                    │                        │               │\n",
              "├─────────────────────────────────┼────────────────────────┼───────────────┤\n",
              "│ global_average_pooling2d        │ (<span style=\"color: #00d7ff; text-decoration-color: #00d7ff\">None</span>, <span style=\"color: #00af00; text-decoration-color: #00af00\">1280</span>)           │             <span style=\"color: #00af00; text-decoration-color: #00af00\">0</span> │\n",
              "│ (<span style=\"color: #0087ff; text-decoration-color: #0087ff\">GlobalAveragePooling2D</span>)        │                        │               │\n",
              "├─────────────────────────────────┼────────────────────────┼───────────────┤\n",
              "│ dropout (<span style=\"color: #0087ff; text-decoration-color: #0087ff\">Dropout</span>)               │ (<span style=\"color: #00d7ff; text-decoration-color: #00d7ff\">None</span>, <span style=\"color: #00af00; text-decoration-color: #00af00\">1280</span>)           │             <span style=\"color: #00af00; text-decoration-color: #00af00\">0</span> │\n",
              "├─────────────────────────────────┼────────────────────────┼───────────────┤\n",
              "│ dense (<span style=\"color: #0087ff; text-decoration-color: #0087ff\">Dense</span>)                   │ (<span style=\"color: #00d7ff; text-decoration-color: #00d7ff\">None</span>, <span style=\"color: #00af00; text-decoration-color: #00af00\">4</span>)              │         <span style=\"color: #00af00; text-decoration-color: #00af00\">5,124</span> │\n",
              "└─────────────────────────────────┴────────────────────────┴───────────────┘\n",
              "</pre>\n"
            ]
          },
          "metadata": {}
        },
        {
          "output_type": "display_data",
          "data": {
            "text/plain": [
              "\u001b[1m Total params: \u001b[0m\u001b[38;5;34m2,263,108\u001b[0m (8.63 MB)\n"
            ],
            "text/html": [
              "<pre style=\"white-space:pre;overflow-x:auto;line-height:normal;font-family:Menlo,'DejaVu Sans Mono',consolas,'Courier New',monospace\"><span style=\"font-weight: bold\"> Total params: </span><span style=\"color: #00af00; text-decoration-color: #00af00\">2,263,108</span> (8.63 MB)\n",
              "</pre>\n"
            ]
          },
          "metadata": {}
        },
        {
          "output_type": "display_data",
          "data": {
            "text/plain": [
              "\u001b[1m Trainable params: \u001b[0m\u001b[38;5;34m5,124\u001b[0m (20.02 KB)\n"
            ],
            "text/html": [
              "<pre style=\"white-space:pre;overflow-x:auto;line-height:normal;font-family:Menlo,'DejaVu Sans Mono',consolas,'Courier New',monospace\"><span style=\"font-weight: bold\"> Trainable params: </span><span style=\"color: #00af00; text-decoration-color: #00af00\">5,124</span> (20.02 KB)\n",
              "</pre>\n"
            ]
          },
          "metadata": {}
        },
        {
          "output_type": "display_data",
          "data": {
            "text/plain": [
              "\u001b[1m Non-trainable params: \u001b[0m\u001b[38;5;34m2,257,984\u001b[0m (8.61 MB)\n"
            ],
            "text/html": [
              "<pre style=\"white-space:pre;overflow-x:auto;line-height:normal;font-family:Menlo,'DejaVu Sans Mono',consolas,'Courier New',monospace\"><span style=\"font-weight: bold\"> Non-trainable params: </span><span style=\"color: #00af00; text-decoration-color: #00af00\">2,257,984</span> (8.61 MB)\n",
              "</pre>\n"
            ]
          },
          "metadata": {}
        }
      ]
    },
    {
      "cell_type": "code",
      "source": [
        "#----------------CALLBACKS------------------\n",
        "# Callbacks: Early Stopping and Model Checkpoint\n",
        "early_stop = EarlyStopping(monitor='val_loss', patience=5, verbose=1, restore_best_weights=True)\n",
        "checkpoint = ModelCheckpoint('best_model.keras', monitor='val_accuracy', save_best_only=True, verbose=1)\n"
      ],
      "metadata": {
        "id": "AMsc-f1lMcM5"
      },
      "execution_count": null,
      "outputs": []
    },
    {
      "cell_type": "code",
      "source": [
        "#-------------TRAIN MODEL----------------\n",
        "# Train the model with validation set\n",
        "history = model.fit(\n",
        "  training_set,\n",
        "  epochs=35,\n",
        "  validation_data=validation_set,\n",
        "  callbacks=[early_stop, checkpoint]\n",
        ")"
      ],
      "metadata": {
        "colab": {
          "base_uri": "https://localhost:8080/"
        },
        "id": "5VnV_7sONWtu",
        "outputId": "1c5146a5-40f3-46db-f0e0-ec4ac5c42232"
      },
      "execution_count": null,
      "outputs": [
        {
          "output_type": "stream",
          "name": "stderr",
          "text": [
            "/usr/local/lib/python3.11/dist-packages/keras/src/trainers/data_adapters/py_dataset_adapter.py:121: UserWarning: Your `PyDataset` class should call `super().__init__(**kwargs)` in its constructor. `**kwargs` can include `workers`, `use_multiprocessing`, `max_queue_size`. Do not pass these arguments to `fit()`, as they will be ignored.\n",
            "  self._warn_if_super_not_called()\n"
          ]
        },
        {
          "output_type": "stream",
          "name": "stdout",
          "text": [
            "Epoch 1/35\n",
            "\u001b[1m256/256\u001b[0m \u001b[32m━━━━━━━━━━━━━━━━━━━━\u001b[0m\u001b[37m\u001b[0m \u001b[1m0s\u001b[0m 397ms/step - accuracy: 0.2617 - loss: 1.8827\n",
            "Epoch 1: val_accuracy improved from -inf to 0.41943, saving model to best_model.keras\n",
            "\u001b[1m256/256\u001b[0m \u001b[32m━━━━━━━━━━━━━━━━━━━━\u001b[0m\u001b[37m\u001b[0m \u001b[1m142s\u001b[0m 514ms/step - accuracy: 0.2618 - loss: 1.8822 - val_accuracy: 0.4194 - val_loss: 1.2524\n",
            "Epoch 2/35\n",
            "\u001b[1m256/256\u001b[0m \u001b[32m━━━━━━━━━━━━━━━━━━━━\u001b[0m\u001b[37m\u001b[0m \u001b[1m0s\u001b[0m 395ms/step - accuracy: 0.3327 - loss: 1.5559\n",
            "Epoch 2: val_accuracy improved from 0.41943 to 0.50537, saving model to best_model.keras\n",
            "\u001b[1m256/256\u001b[0m \u001b[32m━━━━━━━━━━━━━━━━━━━━\u001b[0m\u001b[37m\u001b[0m \u001b[1m127s\u001b[0m 497ms/step - accuracy: 0.3328 - loss: 1.5557 - val_accuracy: 0.5054 - val_loss: 1.1267\n",
            "Epoch 3/35\n",
            "\u001b[1m256/256\u001b[0m \u001b[32m━━━━━━━━━━━━━━━━━━━━\u001b[0m\u001b[37m\u001b[0m \u001b[1m0s\u001b[0m 397ms/step - accuracy: 0.3958 - loss: 1.4033\n",
            "Epoch 3: val_accuracy improved from 0.50537 to 0.52734, saving model to best_model.keras\n",
            "\u001b[1m256/256\u001b[0m \u001b[32m━━━━━━━━━━━━━━━━━━━━\u001b[0m\u001b[37m\u001b[0m \u001b[1m127s\u001b[0m 496ms/step - accuracy: 0.3959 - loss: 1.4032 - val_accuracy: 0.5273 - val_loss: 1.0616\n",
            "Epoch 4/35\n",
            "\u001b[1m256/256\u001b[0m \u001b[32m━━━━━━━━━━━━━━━━━━━━\u001b[0m\u001b[37m\u001b[0m \u001b[1m0s\u001b[0m 385ms/step - accuracy: 0.4408 - loss: 1.2980\n",
            "Epoch 4: val_accuracy improved from 0.52734 to 0.54492, saving model to best_model.keras\n",
            "\u001b[1m256/256\u001b[0m \u001b[32m━━━━━━━━━━━━━━━━━━━━\u001b[0m\u001b[37m\u001b[0m \u001b[1m124s\u001b[0m 485ms/step - accuracy: 0.4408 - loss: 1.2979 - val_accuracy: 0.5449 - val_loss: 1.0317\n",
            "Epoch 5/35\n",
            "\u001b[1m256/256\u001b[0m \u001b[32m━━━━━━━━━━━━━━━━━━━━\u001b[0m\u001b[37m\u001b[0m \u001b[1m0s\u001b[0m 387ms/step - accuracy: 0.4581 - loss: 1.2334\n",
            "Epoch 5: val_accuracy improved from 0.54492 to 0.56006, saving model to best_model.keras\n",
            "\u001b[1m256/256\u001b[0m \u001b[32m━━━━━━━━━━━━━━━━━━━━\u001b[0m\u001b[37m\u001b[0m \u001b[1m141s\u001b[0m 550ms/step - accuracy: 0.4582 - loss: 1.2333 - val_accuracy: 0.5601 - val_loss: 0.9826\n",
            "Epoch 6/35\n",
            "\u001b[1m256/256\u001b[0m \u001b[32m━━━━━━━━━━━━━━━━━━━━\u001b[0m\u001b[37m\u001b[0m \u001b[1m0s\u001b[0m 390ms/step - accuracy: 0.4881 - loss: 1.1809\n",
            "Epoch 6: val_accuracy improved from 0.56006 to 0.57812, saving model to best_model.keras\n",
            "\u001b[1m256/256\u001b[0m \u001b[32m━━━━━━━━━━━━━━━━━━━━\u001b[0m\u001b[37m\u001b[0m \u001b[1m125s\u001b[0m 490ms/step - accuracy: 0.4881 - loss: 1.1808 - val_accuracy: 0.5781 - val_loss: 0.9548\n",
            "Epoch 7/35\n",
            "\u001b[1m256/256\u001b[0m \u001b[32m━━━━━━━━━━━━━━━━━━━━\u001b[0m\u001b[37m\u001b[0m \u001b[1m0s\u001b[0m 381ms/step - accuracy: 0.5086 - loss: 1.1340\n",
            "Epoch 7: val_accuracy did not improve from 0.57812\n",
            "\u001b[1m256/256\u001b[0m \u001b[32m━━━━━━━━━━━━━━━━━━━━\u001b[0m\u001b[37m\u001b[0m \u001b[1m123s\u001b[0m 480ms/step - accuracy: 0.5086 - loss: 1.1340 - val_accuracy: 0.5605 - val_loss: 0.9496\n",
            "Epoch 8/35\n",
            "\u001b[1m256/256\u001b[0m \u001b[32m━━━━━━━━━━━━━━━━━━━━\u001b[0m\u001b[37m\u001b[0m \u001b[1m0s\u001b[0m 392ms/step - accuracy: 0.5139 - loss: 1.0902\n",
            "Epoch 8: val_accuracy improved from 0.57812 to 0.58398, saving model to best_model.keras\n",
            "\u001b[1m256/256\u001b[0m \u001b[32m━━━━━━━━━━━━━━━━━━━━\u001b[0m\u001b[37m\u001b[0m \u001b[1m125s\u001b[0m 489ms/step - accuracy: 0.5139 - loss: 1.0902 - val_accuracy: 0.5840 - val_loss: 0.9229\n",
            "Epoch 9/35\n",
            "\u001b[1m256/256\u001b[0m \u001b[32m━━━━━━━━━━━━━━━━━━━━\u001b[0m\u001b[37m\u001b[0m \u001b[1m0s\u001b[0m 390ms/step - accuracy: 0.5294 - loss: 1.0756\n",
            "Epoch 9: val_accuracy did not improve from 0.58398\n",
            "\u001b[1m256/256\u001b[0m \u001b[32m━━━━━━━━━━━━━━━━━━━━\u001b[0m\u001b[37m\u001b[0m \u001b[1m125s\u001b[0m 487ms/step - accuracy: 0.5295 - loss: 1.0755 - val_accuracy: 0.5840 - val_loss: 0.9139\n",
            "Epoch 10/35\n",
            "\u001b[1m256/256\u001b[0m \u001b[32m━━━━━━━━━━━━━━━━━━━━\u001b[0m\u001b[37m\u001b[0m \u001b[1m0s\u001b[0m 377ms/step - accuracy: 0.5543 - loss: 1.0299\n",
            "Epoch 10: val_accuracy improved from 0.58398 to 0.59082, saving model to best_model.keras\n",
            "\u001b[1m256/256\u001b[0m \u001b[32m━━━━━━━━━━━━━━━━━━━━\u001b[0m\u001b[37m\u001b[0m \u001b[1m121s\u001b[0m 474ms/step - accuracy: 0.5543 - loss: 1.0299 - val_accuracy: 0.5908 - val_loss: 0.8989\n",
            "Epoch 11/35\n",
            "\u001b[1m256/256\u001b[0m \u001b[32m━━━━━━━━━━━━━━━━━━━━\u001b[0m\u001b[37m\u001b[0m \u001b[1m0s\u001b[0m 375ms/step - accuracy: 0.5531 - loss: 1.0197\n",
            "Epoch 11: val_accuracy improved from 0.59082 to 0.60645, saving model to best_model.keras\n",
            "\u001b[1m256/256\u001b[0m \u001b[32m━━━━━━━━━━━━━━━━━━━━\u001b[0m\u001b[37m\u001b[0m \u001b[1m121s\u001b[0m 472ms/step - accuracy: 0.5531 - loss: 1.0196 - val_accuracy: 0.6064 - val_loss: 0.8836\n",
            "Epoch 12/35\n",
            "\u001b[1m256/256\u001b[0m \u001b[32m━━━━━━━━━━━━━━━━━━━━\u001b[0m\u001b[37m\u001b[0m \u001b[1m0s\u001b[0m 374ms/step - accuracy: 0.5635 - loss: 0.9849\n",
            "Epoch 12: val_accuracy did not improve from 0.60645\n",
            "\u001b[1m256/256\u001b[0m \u001b[32m━━━━━━━━━━━━━━━━━━━━\u001b[0m\u001b[37m\u001b[0m \u001b[1m120s\u001b[0m 469ms/step - accuracy: 0.5635 - loss: 0.9849 - val_accuracy: 0.6060 - val_loss: 0.8811\n",
            "Epoch 13/35\n",
            "\u001b[1m256/256\u001b[0m \u001b[32m━━━━━━━━━━━━━━━━━━━━\u001b[0m\u001b[37m\u001b[0m \u001b[1m0s\u001b[0m 375ms/step - accuracy: 0.5770 - loss: 0.9860\n",
            "Epoch 13: val_accuracy did not improve from 0.60645\n",
            "\u001b[1m256/256\u001b[0m \u001b[32m━━━━━━━━━━━━━━━━━━━━\u001b[0m\u001b[37m\u001b[0m \u001b[1m142s\u001b[0m 470ms/step - accuracy: 0.5771 - loss: 0.9859 - val_accuracy: 0.5962 - val_loss: 0.8991\n",
            "Epoch 14/35\n",
            "\u001b[1m256/256\u001b[0m \u001b[32m━━━━━━━━━━━━━━━━━━━━\u001b[0m\u001b[37m\u001b[0m \u001b[1m0s\u001b[0m 378ms/step - accuracy: 0.5806 - loss: 0.9669\n",
            "Epoch 14: val_accuracy improved from 0.60645 to 0.61670, saving model to best_model.keras\n",
            "\u001b[1m256/256\u001b[0m \u001b[32m━━━━━━━━━━━━━━━━━━━━\u001b[0m\u001b[37m\u001b[0m \u001b[1m121s\u001b[0m 474ms/step - accuracy: 0.5806 - loss: 0.9668 - val_accuracy: 0.6167 - val_loss: 0.8738\n",
            "Epoch 15/35\n",
            "\u001b[1m256/256\u001b[0m \u001b[32m━━━━━━━━━━━━━━━━━━━━\u001b[0m\u001b[37m\u001b[0m \u001b[1m0s\u001b[0m 375ms/step - accuracy: 0.6065 - loss: 0.9302\n",
            "Epoch 15: val_accuracy did not improve from 0.61670\n",
            "\u001b[1m256/256\u001b[0m \u001b[32m━━━━━━━━━━━━━━━━━━━━\u001b[0m\u001b[37m\u001b[0m \u001b[1m120s\u001b[0m 470ms/step - accuracy: 0.6064 - loss: 0.9303 - val_accuracy: 0.6089 - val_loss: 0.8794\n",
            "Epoch 16/35\n",
            "\u001b[1m256/256\u001b[0m \u001b[32m━━━━━━━━━━━━━━━━━━━━\u001b[0m\u001b[37m\u001b[0m \u001b[1m0s\u001b[0m 381ms/step - accuracy: 0.5933 - loss: 0.9388\n",
            "Epoch 16: val_accuracy did not improve from 0.61670\n",
            "\u001b[1m256/256\u001b[0m \u001b[32m━━━━━━━━━━━━━━━━━━━━\u001b[0m\u001b[37m\u001b[0m \u001b[1m122s\u001b[0m 478ms/step - accuracy: 0.5933 - loss: 0.9388 - val_accuracy: 0.6084 - val_loss: 0.8723\n",
            "Epoch 17/35\n",
            "\u001b[1m256/256\u001b[0m \u001b[32m━━━━━━━━━━━━━━━━━━━━\u001b[0m\u001b[37m\u001b[0m \u001b[1m0s\u001b[0m 387ms/step - accuracy: 0.6048 - loss: 0.9075\n",
            "Epoch 17: val_accuracy did not improve from 0.61670\n",
            "\u001b[1m256/256\u001b[0m \u001b[32m━━━━━━━━━━━━━━━━━━━━\u001b[0m\u001b[37m\u001b[0m \u001b[1m124s\u001b[0m 484ms/step - accuracy: 0.6048 - loss: 0.9075 - val_accuracy: 0.6118 - val_loss: 0.8578\n",
            "Epoch 18/35\n",
            "\u001b[1m256/256\u001b[0m \u001b[32m━━━━━━━━━━━━━━━━━━━━\u001b[0m\u001b[37m\u001b[0m \u001b[1m0s\u001b[0m 390ms/step - accuracy: 0.5947 - loss: 0.9212\n",
            "Epoch 18: val_accuracy improved from 0.61670 to 0.62207, saving model to best_model.keras\n",
            "\u001b[1m256/256\u001b[0m \u001b[32m━━━━━━━━━━━━━━━━━━━━\u001b[0m\u001b[37m\u001b[0m \u001b[1m124s\u001b[0m 484ms/step - accuracy: 0.5948 - loss: 0.9211 - val_accuracy: 0.6221 - val_loss: 0.8482\n",
            "Epoch 19/35\n",
            "\u001b[1m256/256\u001b[0m \u001b[32m━━━━━━━━━━━━━━━━━━━━\u001b[0m\u001b[37m\u001b[0m \u001b[1m0s\u001b[0m 384ms/step - accuracy: 0.6062 - loss: 0.9014\n",
            "Epoch 19: val_accuracy did not improve from 0.62207\n",
            "\u001b[1m256/256\u001b[0m \u001b[32m━━━━━━━━━━━━━━━━━━━━\u001b[0m\u001b[37m\u001b[0m \u001b[1m141s\u001b[0m 481ms/step - accuracy: 0.6062 - loss: 0.9014 - val_accuracy: 0.6152 - val_loss: 0.8554\n",
            "Epoch 20/35\n",
            "\u001b[1m256/256\u001b[0m \u001b[32m━━━━━━━━━━━━━━━━━━━━\u001b[0m\u001b[37m\u001b[0m \u001b[1m0s\u001b[0m 386ms/step - accuracy: 0.6121 - loss: 0.9046\n",
            "Epoch 20: val_accuracy did not improve from 0.62207\n",
            "\u001b[1m256/256\u001b[0m \u001b[32m━━━━━━━━━━━━━━━━━━━━\u001b[0m\u001b[37m\u001b[0m \u001b[1m123s\u001b[0m 480ms/step - accuracy: 0.6121 - loss: 0.9046 - val_accuracy: 0.6079 - val_loss: 0.8558\n",
            "Epoch 21/35\n",
            "\u001b[1m256/256\u001b[0m \u001b[32m━━━━━━━━━━━━━━━━━━━━\u001b[0m\u001b[37m\u001b[0m \u001b[1m0s\u001b[0m 391ms/step - accuracy: 0.6188 - loss: 0.9000\n",
            "Epoch 21: val_accuracy did not improve from 0.62207\n",
            "\u001b[1m256/256\u001b[0m \u001b[32m━━━━━━━━━━━━━━━━━━━━\u001b[0m\u001b[37m\u001b[0m \u001b[1m124s\u001b[0m 487ms/step - accuracy: 0.6188 - loss: 0.9000 - val_accuracy: 0.6147 - val_loss: 0.8398\n",
            "Epoch 22/35\n",
            "\u001b[1m256/256\u001b[0m \u001b[32m━━━━━━━━━━━━━━━━━━━━\u001b[0m\u001b[37m\u001b[0m \u001b[1m0s\u001b[0m 383ms/step - accuracy: 0.6072 - loss: 0.9038\n",
            "Epoch 22: val_accuracy did not improve from 0.62207\n",
            "\u001b[1m256/256\u001b[0m \u001b[32m━━━━━━━━━━━━━━━━━━━━\u001b[0m\u001b[37m\u001b[0m \u001b[1m141s\u001b[0m 482ms/step - accuracy: 0.6072 - loss: 0.9038 - val_accuracy: 0.6177 - val_loss: 0.8480\n",
            "Epoch 23/35\n",
            "\u001b[1m256/256\u001b[0m \u001b[32m━━━━━━━━━━━━━━━━━━━━\u001b[0m\u001b[37m\u001b[0m \u001b[1m0s\u001b[0m 396ms/step - accuracy: 0.6219 - loss: 0.8855\n",
            "Epoch 23: val_accuracy improved from 0.62207 to 0.63135, saving model to best_model.keras\n",
            "\u001b[1m256/256\u001b[0m \u001b[32m━━━━━━━━━━━━━━━━━━━━\u001b[0m\u001b[37m\u001b[0m \u001b[1m143s\u001b[0m 559ms/step - accuracy: 0.6219 - loss: 0.8855 - val_accuracy: 0.6313 - val_loss: 0.8370\n",
            "Epoch 24/35\n",
            "\u001b[1m256/256\u001b[0m \u001b[32m━━━━━━━━━━━━━━━━━━━━\u001b[0m\u001b[37m\u001b[0m \u001b[1m0s\u001b[0m 389ms/step - accuracy: 0.6381 - loss: 0.8579\n",
            "Epoch 24: val_accuracy did not improve from 0.63135\n",
            "\u001b[1m256/256\u001b[0m \u001b[32m━━━━━━━━━━━━━━━━━━━━\u001b[0m\u001b[37m\u001b[0m \u001b[1m125s\u001b[0m 488ms/step - accuracy: 0.6381 - loss: 0.8580 - val_accuracy: 0.6201 - val_loss: 0.8423\n",
            "Epoch 25/35\n",
            "\u001b[1m256/256\u001b[0m \u001b[32m━━━━━━━━━━━━━━━━━━━━\u001b[0m\u001b[37m\u001b[0m \u001b[1m0s\u001b[0m 392ms/step - accuracy: 0.6332 - loss: 0.8787\n",
            "Epoch 25: val_accuracy did not improve from 0.63135\n",
            "\u001b[1m256/256\u001b[0m \u001b[32m━━━━━━━━━━━━━━━━━━━━\u001b[0m\u001b[37m\u001b[0m \u001b[1m124s\u001b[0m 485ms/step - accuracy: 0.6332 - loss: 0.8787 - val_accuracy: 0.6304 - val_loss: 0.8468\n",
            "Epoch 26/35\n",
            "\u001b[1m256/256\u001b[0m \u001b[32m━━━━━━━━━━━━━━━━━━━━\u001b[0m\u001b[37m\u001b[0m \u001b[1m0s\u001b[0m 388ms/step - accuracy: 0.6207 - loss: 0.8791\n",
            "Epoch 26: val_accuracy improved from 0.63135 to 0.64453, saving model to best_model.keras\n",
            "\u001b[1m256/256\u001b[0m \u001b[32m━━━━━━━━━━━━━━━━━━━━\u001b[0m\u001b[37m\u001b[0m \u001b[1m125s\u001b[0m 487ms/step - accuracy: 0.6207 - loss: 0.8791 - val_accuracy: 0.6445 - val_loss: 0.8158\n",
            "Epoch 27/35\n",
            "\u001b[1m256/256\u001b[0m \u001b[32m━━━━━━━━━━━━━━━━━━━━\u001b[0m\u001b[37m\u001b[0m \u001b[1m0s\u001b[0m 386ms/step - accuracy: 0.6333 - loss: 0.8553\n",
            "Epoch 27: val_accuracy did not improve from 0.64453\n",
            "\u001b[1m256/256\u001b[0m \u001b[32m━━━━━━━━━━━━━━━━━━━━\u001b[0m\u001b[37m\u001b[0m \u001b[1m123s\u001b[0m 483ms/step - accuracy: 0.6333 - loss: 0.8554 - val_accuracy: 0.6152 - val_loss: 0.8325\n",
            "Epoch 28/35\n",
            "\u001b[1m256/256\u001b[0m \u001b[32m━━━━━━━━━━━━━━━━━━━━\u001b[0m\u001b[37m\u001b[0m \u001b[1m0s\u001b[0m 381ms/step - accuracy: 0.6258 - loss: 0.8767\n",
            "Epoch 28: val_accuracy did not improve from 0.64453\n",
            "\u001b[1m256/256\u001b[0m \u001b[32m━━━━━━━━━━━━━━━━━━━━\u001b[0m\u001b[37m\u001b[0m \u001b[1m122s\u001b[0m 477ms/step - accuracy: 0.6259 - loss: 0.8766 - val_accuracy: 0.6206 - val_loss: 0.8314\n",
            "Epoch 29/35\n",
            "\u001b[1m256/256\u001b[0m \u001b[32m━━━━━━━━━━━━━━━━━━━━\u001b[0m\u001b[37m\u001b[0m \u001b[1m0s\u001b[0m 378ms/step - accuracy: 0.6344 - loss: 0.8540\n",
            "Epoch 29: val_accuracy did not improve from 0.64453\n",
            "\u001b[1m256/256\u001b[0m \u001b[32m━━━━━━━━━━━━━━━━━━━━\u001b[0m\u001b[37m\u001b[0m \u001b[1m121s\u001b[0m 474ms/step - accuracy: 0.6344 - loss: 0.8540 - val_accuracy: 0.6240 - val_loss: 0.8389\n",
            "Epoch 30/35\n",
            "\u001b[1m256/256\u001b[0m \u001b[32m━━━━━━━━━━━━━━━━━━━━\u001b[0m\u001b[37m\u001b[0m \u001b[1m0s\u001b[0m 378ms/step - accuracy: 0.6371 - loss: 0.8588\n",
            "Epoch 30: val_accuracy did not improve from 0.64453\n",
            "\u001b[1m256/256\u001b[0m \u001b[32m━━━━━━━━━━━━━━━━━━━━\u001b[0m\u001b[37m\u001b[0m \u001b[1m121s\u001b[0m 475ms/step - accuracy: 0.6371 - loss: 0.8588 - val_accuracy: 0.6318 - val_loss: 0.8291\n",
            "Epoch 31/35\n",
            "\u001b[1m256/256\u001b[0m \u001b[32m━━━━━━━━━━━━━━━━━━━━\u001b[0m\u001b[37m\u001b[0m \u001b[1m0s\u001b[0m 384ms/step - accuracy: 0.6219 - loss: 0.8656\n",
            "Epoch 31: val_accuracy did not improve from 0.64453\n",
            "\u001b[1m256/256\u001b[0m \u001b[32m━━━━━━━━━━━━━━━━━━━━\u001b[0m\u001b[37m\u001b[0m \u001b[1m122s\u001b[0m 477ms/step - accuracy: 0.6219 - loss: 0.8656 - val_accuracy: 0.6421 - val_loss: 0.8242\n",
            "Epoch 31: early stopping\n",
            "Restoring model weights from the end of the best epoch: 26.\n"
          ]
        }
      ]
    },
    {
      "cell_type": "code",
      "source": [
        "#-------------MODEL ASSESSMENT--------------------\n",
        "# Evaluate on the validation set\n",
        "val_loss, val_accuracy = model.evaluate(validation_set)\n",
        "print(f\"Validation Accuracy: {val_accuracy * 100:.2f}%\")"
      ],
      "metadata": {
        "colab": {
          "base_uri": "https://localhost:8080/"
        },
        "id": "oxH4rXBRhfL3",
        "outputId": "2fc23ba2-3f20-49ec-a2c9-34e4b320224f"
      },
      "execution_count": null,
      "outputs": [
        {
          "output_type": "stream",
          "name": "stdout",
          "text": [
            "\u001b[1m64/64\u001b[0m \u001b[32m━━━━━━━━━━━━━━━━━━━━\u001b[0m\u001b[37m\u001b[0m \u001b[1m25s\u001b[0m 388ms/step - accuracy: 0.6184 - loss: 0.8432\n",
            "Validation Accuracy: 62.45%\n"
          ]
        }
      ]
    },
    {
      "cell_type": "code",
      "source": [
        "#-------------VIZUALIZING TRAINING PERFORMANCE--------------\n",
        "# Extract loss and val_loss\n",
        "loss = history.history['loss']\n",
        "val_loss = history.history['val_loss']\n",
        "# Optional: Extract accuracy if you used it\n",
        "if 'accuracy' in history.history:\n",
        "  acc = history.history['accuracy']\n",
        "  val_acc = history.history['val_accuracy']\n",
        "elif 'mae' in history.history: # You used MAE in your compile step\n",
        "  acc = history.history['mae']\n",
        "  val_acc = history.history['val_mae']\n",
        "else:\n",
        "  acc = val_acc = None\n",
        "\n",
        "# Plot\n",
        "epochs = range(1, len(loss) + 1)\n",
        "plt.figure(figsize=(14, 6))\n",
        "\n",
        "# Optional: Extract accuracy if you used it\n",
        "if 'accuracy' in history.history:\n",
        "  acc = history.history['accuracy']\n",
        "  val_acc = history.history['val_accuracy']\n",
        "elif 'mae' in history.history: # You used MAE in your compile step\n",
        "  acc = history.history['mae']\n",
        "  val_acc = history.history['val_mae']\n",
        "else:\n",
        "  acc = val_acc = None\n",
        "\n",
        "# Plot\n",
        "epochs = range(1, len(loss) + 1)\n",
        "plt.figure(figsize=(14, 6))\n",
        "\n",
        "# Loss plot\n",
        "plt.subplot(1, 2, 1)\n",
        "plt.plot(epochs, loss, label='Training Loss')\n",
        "plt.plot(epochs, val_loss, label='Validation Loss')\n",
        "plt.xlabel('Epochs')\n",
        "plt.ylabel('Loss')\n",
        "plt.title('Training vs Validation Loss')\n",
        "plt.legend()\n",
        "\n",
        "# MAE or Accuracy plot\n",
        "if acc is not None:\n",
        "  plt.subplot(1, 2, 2)\n",
        "  plt.plot(epochs, acc, label='Training MAE' if 'mae' in history.history else 'Training Accuracy')\n",
        "  plt.plot(epochs, val_acc, label='Validation MAE' if 'mae' in history.history\n",
        "else 'Validation Accuracy')\n",
        "  plt.xlabel('Epochs')\n",
        "  plt.ylabel('MAE' if 'mae' in history.history else 'Accuracy')\n",
        "  plt.title('Training vs Validation ' + ('MAE' if 'mae' in history.history else 'Accuracy'))\n",
        "  plt.legend()\n",
        "\n",
        "plt.tight_layout()\n",
        "plt.show()"
      ],
      "metadata": {
        "colab": {
          "base_uri": "https://localhost:8080/",
          "height": 322
        },
        "id": "gYO4EoUth2FE",
        "outputId": "f8001da9-bd70-4b73-a169-5047ca4a883f"
      },
      "execution_count": null,
      "outputs": [
        {
          "output_type": "display_data",
          "data": {
            "text/plain": [
              "<Figure size 1400x600 with 0 Axes>"
            ]
          },
          "metadata": {}
        },
        {
          "output_type": "display_data",
          "data": {
            "text/plain": [
              "<Figure size 1400x600 with 2 Axes>"
            ],
            "image/png": "[encoded data removed]"
          },
          "metadata": {}
        }
      ]
    },
    {
      "cell_type": "code",
      "source": [
        "!ls '/content/alzheimers1/alzheimers/Combined_Dataset/train/alzheimers/Combined_Dataset/train/alzheimers/Combined_Dataset/train/alzheimers/Combined_Dataset/test'\n",
        "extract_path2 = '/content/alzheimers1/alzheimers/Combined_Dataset/train/alzheimers/Combined_Dataset/train/alzheimers/Combined_Dataset/train/alzheimers/Combined_Dataset/test'"
      ],
      "metadata": {
        "colab": {
          "base_uri": "https://localhost:8080/"
        },
        "id": "mSm_-Vfv-kpz",
        "outputId": "2b89cde1-d79a-487f-ada3-4664b456cd1b"
      },
      "execution_count": null,
      "outputs": [
        {
          "output_type": "stream",
          "name": "stdout",
          "text": [
            "'Mild Impairment'      'No Impairment'\n",
            "'Moderate Impairment'  'Very Mild Impairment'\n"
          ]
        }
      ]
    },
    {
      "cell_type": "code",
      "source": [
        "#-------------PREPARING THE TEST DATA SET---------------\n",
        "# Test Data Preprocessing\n",
        "test_set = train_datagen.flow_from_directory(\n",
        "  extract_path2,\n",
        "  target_size=(224, 224),\n",
        "  batch_size=32,\n",
        "  class_mode='categorical',\n",
        ")"
      ],
      "metadata": {
        "colab": {
          "base_uri": "https://localhost:8080/"
        },
        "id": "rP4YgIXroYnI",
        "outputId": "d42ede6a-0a43-4c9d-a4d6-5d242157a716"
      },
      "execution_count": null,
      "outputs": [
        {
          "output_type": "stream",
          "name": "stdout",
          "text": [
            "Found 1279 images belonging to 4 classes.\n"
          ]
        }
      ]
    },
    {
      "cell_type": "code",
      "source": [
        "#---------EVAL ON TEST DATA---------------\n",
        "# Evaluate on the test data\n",
        "test_loss, test_accuracy = model.evaluate(test_set)\n",
        "print(f\"Test Accuracy: {test_accuracy * 100:.2f}%\")"
      ],
      "metadata": {
        "colab": {
          "base_uri": "https://localhost:8080/"
        },
        "id": "JtKL8bSjotOY",
        "outputId": "0f383ff6-4019-459d-bf22-af72fda6778f"
      },
      "execution_count": null,
      "outputs": [
        {
          "output_type": "stream",
          "name": "stderr",
          "text": [
            "/usr/local/lib/python3.11/dist-packages/keras/src/trainers/data_adapters/py_dataset_adapter.py:121: UserWarning: Your `PyDataset` class should call `super().__init__(**kwargs)` in its constructor. `**kwargs` can include `workers`, `use_multiprocessing`, `max_queue_size`. Do not pass these arguments to `fit()`, as they will be ignored.\n",
            "  self._warn_if_super_not_called()\n"
          ]
        },
        {
          "output_type": "stream",
          "name": "stdout",
          "text": [
            "\u001b[1m40/40\u001b[0m \u001b[32m━━━━━━━━━━━━━━━━━━━━\u001b[0m\u001b[37m\u001b[0m \u001b[1m19s\u001b[0m 487ms/step - accuracy: 0.5158 - loss: 0.9865\n",
            "Test Accuracy: 53.24%\n"
          ]
        }
      ]
    },
    {
      "cell_type": "code",
      "source": [
        "#----------PREDICTING ON NEW IMAGES--------------------\n",
        "# Function for Predicting a Single Image\n",
        "def predict_single_image(model, image_path):\n",
        "  img = load_img("
      ],
      "metadata": {
        "id": "rsx41m6NrC1m"
      },
      "execution_count": null,
      "outputs": []
    }
  ]
}